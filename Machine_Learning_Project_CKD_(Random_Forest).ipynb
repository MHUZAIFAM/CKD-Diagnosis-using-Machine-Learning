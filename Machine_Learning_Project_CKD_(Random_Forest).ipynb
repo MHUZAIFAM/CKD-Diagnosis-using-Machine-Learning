{
  "nbformat": 4,
  "nbformat_minor": 0,
  "metadata": {
    "colab": {
      "provenance": []
    },
    "kernelspec": {
      "name": "python3",
      "display_name": "Python 3"
    },
    "language_info": {
      "name": "python"
    }
  },
  "cells": [
    {
      "cell_type": "markdown",
      "source": [
        "Random Forest"
      ],
      "metadata": {
        "id": "dKaDCqjNAKqy"
      }
    },
    {
      "cell_type": "code",
      "source": [
        "import numpy as np\n",
        "\n",
        "class DecisionTree:\n",
        "    def __init__(self, max_depth=None):\n",
        "        self.max_depth = max_depth\n",
        "\n",
        "    def fit(self, X, y):\n",
        "        self.root = self._build_tree(X, y)\n",
        "\n",
        "    def predict(self, X):\n",
        "        return np.array([self._predict_one(x, self.root) for x in X])\n",
        "\n",
        "    def _build_tree(self, X, y, depth=0):\n",
        "        n_samples, n_features = X.shape\n",
        "        n_labels = len(np.unique(y))\n",
        "\n",
        "        # Stop criteria\n",
        "        if depth >= self.max_depth or n_labels == 1 or n_samples < 2:\n",
        "            leaf_value = self._most_common_label(y)\n",
        "            return {\"leaf\": True, \"value\": leaf_value}\n",
        "\n",
        "        # Find the best split\n",
        "        best_feature, best_threshold = self._best_split(X, y)\n",
        "\n",
        "        # Grow the children recursively\n",
        "        left_indices = X[:, best_feature] < best_threshold\n",
        "        right_indices = ~left_indices\n",
        "\n",
        "        left = self._build_tree(X[left_indices], y[left_indices], depth + 1)\n",
        "        right = self._build_tree(X[right_indices], y[right_indices], depth + 1)\n",
        "\n",
        "        return {\"leaf\": False, \"feature\": best_feature, \"threshold\": best_threshold, \"left\": left, \"right\": right}\n",
        "\n",
        "    def _best_split(self, X, y):\n",
        "        best_gain = -1\n",
        "        best_feature, best_threshold = None, None\n",
        "\n",
        "        for feature in range(X.shape[1]):\n",
        "            thresholds = np.unique(X[:, feature])\n",
        "            for threshold in thresholds:\n",
        "                gain = self._information_gain(X[:, feature], y, threshold)\n",
        "                if gain > best_gain:\n",
        "                    best_gain = gain\n",
        "                    best_feature, best_threshold = feature, threshold\n",
        "\n",
        "        return best_feature, best_threshold\n",
        "\n",
        "    def _information_gain(self, feature, y, threshold):\n",
        "        # Split the data\n",
        "        left_indices = feature < threshold\n",
        "        right_indices = ~left_indices\n",
        "        if len(left_indices) == 0 or len(right_indices) == 0:\n",
        "            return 0\n",
        "\n",
        "        # Calculate impurity\n",
        "        parent_impurity = self._gini(y)\n",
        "        n = len(y)\n",
        "        n_left, n_right = len(y[left_indices]), len(y[right_indices])\n",
        "        left_impurity = self._gini(y[left_indices])\n",
        "        right_impurity = self._gini(y[right_indices])\n",
        "\n",
        "        # Calculate information gain\n",
        "        weighted_avg = (n_left / n) * left_impurity + (n_right / n) * right_impurity\n",
        "        return parent_impurity - weighted_avg\n",
        "\n",
        "    def _gini(self, y):\n",
        "        proportions = np.bincount(y) / len(y)\n",
        "        return 1 - np.sum(proportions ** 2)\n",
        "\n",
        "    def _most_common_label(self, y):\n",
        "        return np.bincount(y).argmax()\n",
        "\n",
        "    def _predict_one(self, x, node):\n",
        "        if node[\"leaf\"]:\n",
        "            return node[\"value\"]\n",
        "        if x[node[\"feature\"]] < node[\"threshold\"]:\n",
        "            return self._predict_one(x, node[\"left\"])\n",
        "        return self._predict_one(x, node[\"right\"])\n"
      ],
      "metadata": {
        "id": "IFvAcIYuAM38"
      },
      "execution_count": null,
      "outputs": []
    },
    {
      "cell_type": "code",
      "source": [
        "class RandomForest:\n",
        "    def __init__(self, n_trees=10, max_depth=None, max_features=None):\n",
        "        self.n_trees = n_trees\n",
        "        self.max_depth = max_depth\n",
        "        self.max_features = max_features\n",
        "        self.trees = []\n",
        "\n",
        "    def fit(self, X, y):\n",
        "        self.trees = []\n",
        "        n_samples = X.shape[0]\n",
        "\n",
        "        for _ in range(self.n_trees):\n",
        "            # Bootstrap sampling\n",
        "            indices = np.random.choice(n_samples, n_samples, replace=True)\n",
        "            X_sample, y_sample = X[indices], y[indices]\n",
        "\n",
        "            # Train a decision tree\n",
        "            tree = DecisionTree(max_depth=self.max_depth)\n",
        "            tree.fit(X_sample, y_sample)\n",
        "            self.trees.append(tree)\n",
        "\n",
        "    def predict(self, X):\n",
        "        # Aggregate predictions from all trees\n",
        "        tree_predictions = np.array([tree.predict(X) for tree in self.trees])\n",
        "        return np.apply_along_axis(lambda x: np.bincount(x).argmax(), axis=0, arr=tree_predictions)\n"
      ],
      "metadata": {
        "id": "afl9oUKLAUeQ"
      },
      "execution_count": null,
      "outputs": []
    },
    {
      "cell_type": "code",
      "source": [
        "# Load preprocessed CKD dataset\n",
        "import pandas as pd\n",
        "from sklearn.model_selection import train_test_split\n",
        "from sklearn.preprocessing import StandardScaler\n",
        "from sklearn.metrics import accuracy_score\n",
        "\n",
        "# Load the data\n",
        "data = pd.read_csv(\"/content/drive/MyDrive/kidney_disease_preprocessed.csv\")\n",
        "\n",
        "# Encode the target variable 'classification' if necessary\n",
        "# For example, replace 'ckd' with 1 and 'notckd' with 0\n",
        "data[\"classification\"] = data[\"classification\"].replace({\"ckd\": 1, \"notckd\": 0})\n",
        "\n",
        "# Split features and target\n",
        "X = data.drop(\"classification\", axis=1).values\n",
        "y = data[\"classification\"].values\n",
        "\n",
        "# Split the dataset into train and test sets\n",
        "X_train, X_test, y_train, y_test = train_test_split(X, y, test_size=0.2, random_state=42)\n",
        "\n",
        "# Scale the features (important for many models, including Random Forest)\n",
        "scaler = StandardScaler()\n",
        "X_train = scaler.fit_transform(X_train)\n",
        "X_test = scaler.transform(X_test)\n",
        "\n",
        "# Define the Random Forest class\n",
        "class RandomForest:\n",
        "    def __init__(self, n_trees=10, max_depth=None, max_features=None):\n",
        "        self.n_trees = n_trees\n",
        "        self.max_depth = max_depth\n",
        "        self.max_features = max_features\n",
        "        self.trees = []\n",
        "\n",
        "    def fit(self, X, y):\n",
        "        self.trees = []\n",
        "        n_samples = X.shape[0]\n",
        "\n",
        "        for _ in range(self.n_trees):\n",
        "            # Bootstrap sampling\n",
        "            indices = np.random.choice(n_samples, n_samples, replace=True)\n",
        "            X_sample, y_sample = X[indices], y[indices]\n",
        "\n",
        "            # Train a decision tree\n",
        "            tree = DecisionTree(max_depth=self.max_depth)\n",
        "            tree.fit(X_sample, y_sample)\n",
        "            self.trees.append(tree)\n",
        "\n",
        "    def predict(self, X):\n",
        "        # Aggregate predictions from all trees\n",
        "        tree_predictions = np.array([tree.predict(X) for tree in self.trees])\n",
        "        return np.apply_along_axis(lambda x: np.bincount(x).argmax(), axis=0, arr=tree_predictions)\n",
        "\n",
        "# Define the DecisionTree class (as described earlier)\n",
        "\n",
        "# Train and test Random Forest on CKD dataset\n",
        "rf = RandomForest(n_trees=10, max_depth=10)\n",
        "rf.fit(X_train, y_train)\n",
        "y_pred = rf.predict(X_test)\n",
        "\n",
        "# Evaluate performance\n",
        "accuracy = accuracy_score(y_test, y_pred)\n",
        "print(f\"Random Forest Accuracy: {accuracy}\")\n"
      ],
      "metadata": {
        "colab": {
          "base_uri": "https://localhost:8080/"
        },
        "id": "cZhxaSMEAXiC",
        "outputId": "8e02b534-5d3c-49dc-b1a6-00185aadc43b"
      },
      "execution_count": null,
      "outputs": [
        {
          "output_type": "stream",
          "name": "stdout",
          "text": [
            "Random Forest Accuracy: 0.9875\n"
          ]
        }
      ]
    },
    {
      "cell_type": "code",
      "source": [
        "# New data point (make sure it has the same number of features as your training data)\n",
        "# For example, a new data sample with features like 'age', 'bp', 'sg', etc.\n",
        "new_data = np.array([[45, 120, 1.02, 2, 0, 0, 1, 1, 0, 110, 25, 0.8, 3.5, 140, 30, 20, 70, 4, 0, 1, 0, 1, 0, 0]])\n",
        "\n",
        "# Scale the new data using the same scaler used during training\n",
        "new_data_scaled = scaler.transform(new_data)\n",
        "\n",
        "# Make prediction using the trained Random Forest model\n",
        "prediction = rf.predict(new_data_scaled)\n",
        "\n",
        "# Print the predicted class\n",
        "if prediction == 1:\n",
        "    print(\"The prediction is: Chronic Kidney Disease (CKD)\")\n",
        "else:\n",
        "    print(\"The prediction is: No Chronic Kidney Disease (Not CKD)\")"
      ],
      "metadata": {
        "colab": {
          "base_uri": "https://localhost:8080/"
        },
        "id": "wpEVP28gBFYW",
        "outputId": "ed4d9977-78a4-47d9-e03f-e7ed5fc6cd58"
      },
      "execution_count": null,
      "outputs": [
        {
          "output_type": "stream",
          "name": "stdout",
          "text": [
            "The prediction is: No Chronic Kidney Disease (Not CKD)\n"
          ]
        }
      ]
    },
    {
      "cell_type": "code",
      "source": [
        "new_data_batch = np.array([\n",
        "    [45, 120, 1.02, 2, 0, 0, 1, 1, 0, 110, 25, 0.8, 3.5, 140, 30, 20, 70, 4, 0, 1, 0, 1, 0, 0],  # Example 1\n",
        "    [55, 130, 1.03, 3, 1, 1, 0, 0, 1, 115, 22, 1.0, 3.6, 150, 28, 25, 75, 5, 1, 0, 1, 0, 1, 1]   # Example 2\n",
        "])\n",
        "\n",
        "new_data_batch_scaled = scaler.transform(new_data_batch)\n",
        "\n",
        "# Make predictions for the new data batch\n",
        "predictions_batch = rf.predict(new_data_batch_scaled)\n",
        "\n",
        "# Print predictions for each new data point\n",
        "for idx, pred in enumerate(predictions_batch):\n",
        "  # Print the predicted class\n",
        "  if predictions_batch[0] == 0:\n",
        "      print(\"The prediction is: Chronic Kidney Disease (CKD)\")\n",
        "  elif predictions_batch[0] == 1:\n",
        "      print(\"The prediction is: Borderline\")\n",
        "  elif predictions_batch[0] == 2:\n",
        "      print(\"The prediction is: Not Chronic Kidney Disease (Not CKD)\")\n",
        "  else:\n",
        "      print(\"Invalid prediction value.\")"
      ],
      "metadata": {
        "colab": {
          "base_uri": "https://localhost:8080/"
        },
        "id": "rO1nwmZrBV8B",
        "outputId": "6d17974b-c257-43ea-ffaf-77fb62c28ed4"
      },
      "execution_count": null,
      "outputs": [
        {
          "output_type": "stream",
          "name": "stdout",
          "text": [
            "The prediction is: Chronic Kidney Disease (CKD)\n",
            "The prediction is: Chronic Kidney Disease (CKD)\n"
          ]
        }
      ]
    },
    {
      "cell_type": "code",
      "source": [
        "# New data point indicating potential CKD\n",
        "new_ckd_data = np.array([[60, 150, 1.05, 4, 1, 1, 1, 1, 1, 120, 40, 1.2, 3.0, 120, 22, 20, 80, 6, 1, 0, 1, 1, 0, 1]])\n",
        "\n",
        "# Scale the new data using the same scaler used during training\n",
        "new_ckd_data_scaled = scaler.transform(new_ckd_data)\n",
        "\n",
        "# Make prediction using the trained Random Forest model\n",
        "prediction_ckd = rf.predict(new_ckd_data_scaled)\n",
        "\n",
        "# Print the predicted class\n",
        "# Print the predicted class\n",
        "if prediction_ckd[0] == 0:\n",
        "    print(\"The prediction is: Chronic Kidney Disease (CKD)\")\n",
        "elif prediction_ckd[0] == 1:\n",
        "    print(\"The prediction is: Borderline\")\n",
        "elif prediction_ckd[0] == 2:\n",
        "    print(\"The prediction is: Not Chronic Kidney Disease (Not CKD)\")\n",
        "else:\n",
        "    print(\"Invalid prediction value.\")"
      ],
      "metadata": {
        "id": "4TD2ZD3LBhct",
        "outputId": "6272f614-275a-452b-e957-fc890c1002ef",
        "colab": {
          "base_uri": "https://localhost:8080/"
        }
      },
      "execution_count": null,
      "outputs": [
        {
          "output_type": "stream",
          "name": "stdout",
          "text": [
            "The prediction is: Chronic Kidney Disease (CKD)\n"
          ]
        }
      ]
    },
    {
      "cell_type": "code",
      "source": [
        "from sklearn.metrics import confusion_matrix\n",
        "import seaborn as sns\n",
        "import matplotlib.pyplot as plt\n",
        "\n",
        "# Make predictions on the test set\n",
        "y_pred = rf.predict(X_test)\n",
        "\n",
        "# Compute confusion matrix\n",
        "cm = confusion_matrix(y_test, y_pred)\n",
        "\n",
        "# Print the confusion matrix\n",
        "print(\"Confusion Matrix:\")\n",
        "print(cm)\n",
        "\n",
        "# Visualize the confusion matrix with a heatmap\n",
        "plt.figure(figsize=(6, 4))\n",
        "sns.heatmap(cm, annot=True, fmt='d', cmap='Blues', xticklabels=[\"Not CKD\", \"CKD\"], yticklabels=[\"Not CKD\", \"CKD\"])\n",
        "plt.xlabel('Predicted')\n",
        "plt.ylabel('Actual')\n",
        "plt.title('Confusion Matrix for Random Forest Model')\n",
        "plt.show()"
      ],
      "metadata": {
        "colab": {
          "base_uri": "https://localhost:8080/",
          "height": 462
        },
        "id": "rTujCQmnC3nT",
        "outputId": "81fa6c48-fa4d-4adf-9219-06f396cf402f"
      },
      "execution_count": null,
      "outputs": [
        {
          "output_type": "stream",
          "name": "stdout",
          "text": [
            "Confusion Matrix:\n",
            "[[51  1]\n",
            " [ 0 28]]\n"
          ]
        },
        {
          "output_type": "display_data",
          "data": {
            "text/plain": [
              "<Figure size 600x400 with 2 Axes>"
            ],
            "image/png": "[encoded data removed]"
          },
          "metadata": {}
        }
      ]
    },
    {
      "cell_type": "markdown",
      "source": [
        "this confusion matrix is sus! it isnt supposed to be this goood. . . . . . :) something is wrong here please find out"
      ],
      "metadata": {
        "id": "17icfA0KDZfz"
      }
    },
    {
      "cell_type": "code",
      "source": [
        "print(data['classification'].value_counts())"
      ],
      "metadata": {
        "colab": {
          "base_uri": "https://localhost:8080/"
        },
        "id": "squTd4lWDKL3",
        "outputId": "1cdd6fb5-75bf-4bda-fdbb-abda3e423878"
      },
      "execution_count": null,
      "outputs": [
        {
          "output_type": "stream",
          "name": "stdout",
          "text": [
            "classification\n",
            "0    248\n",
            "2    150\n",
            "1      2\n",
            "Name: count, dtype: int64\n"
          ]
        }
      ]
    },
    {
      "cell_type": "code",
      "source": [
        "#confirmed CKD case\n",
        "confirmed_ckd_case = [\n",
        "    65,   # age (elderly)\n",
        "    1.2,  # blood_pressure (mildly elevated)\n",
        "    3.9,  # specific_gravity (low value indicates poor kidney function)\n",
        "    4,    # albumin (high value is common in CKD)\n",
        "    2,    # sugar (moderately high glucose levels)\n",
        "    1,    # red_blood_cells (abnormal = 1, normal = 0)\n",
        "    1,    # pus_cell (abnormal = 1, normal = 0)\n",
        "    0,    # pus_cell_clumps (absent = 0, present = 1)\n",
        "    1,    # bacteria (present = 1, absent = 0)\n",
        "    5.8,  # blood_glucose_random (high value)\n",
        "    8.5,  # blood_urea (elevated)\n",
        "    2.6,  # serum_creatinine (high value)\n",
        "    132,  # sodium (low sodium level common in CKD)\n",
        "    3.8,  # potassium (elevated level common in CKD)\n",
        "    30,   # hemoglobin (low level)\n",
        "    40,   # packed_cell_volume (low level)\n",
        "    3500, # white_blood_cell_count (low count indicates CKD)\n",
        "    4.5,  # red_blood_cell_count (low count common in CKD)\n",
        "    1,    # hypertension (yes = 1, no = 0)\n",
        "    1,    # diabetes_mellitus (yes = 1, no = 0)\n",
        "    1,    # coronary_artery_disease (yes = 1, no = 0)\n",
        "    1,    # appetite (poor = 1, good = 0)\n",
        "    1,    # pedal_edema (present = 1, absent = 0)\n",
        "    0,    # anemia (absent = 0, present = 1)\n",
        "    1     # classification (ckd = 1, notckd = 0)\n",
        "]\n"
      ],
      "metadata": {
        "id": "FZHXjDVBK_4L"
      },
      "execution_count": null,
      "outputs": []
    }
  ]
}